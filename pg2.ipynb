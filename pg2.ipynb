{
  "nbformat": 4,
  "nbformat_minor": 0,
  "metadata": {
    "colab": {
      "name": "pg2",
      "provenance": [],
      "authorship_tag": "ABX9TyNxC6+PvJC1ewWvuqkH2trH",
      "include_colab_link": true
    },
    "kernelspec": {
      "name": "python2",
      "display_name": "Python 2"
    },
    "language_info": {
      "name": "python"
    }
  },
  "cells": [
    {
      "cell_type": "markdown",
      "metadata": {
        "id": "view-in-github",
        "colab_type": "text"
      },
      "source": [
        "<a href=\"https://colab.research.google.com/github/SNUisNotUniversity/mltoolkit/blob/master/pg2.ipynb\" target=\"_parent\"><img src=\"https://colab.research.google.com/assets/colab-badge.svg\" alt=\"Open In Colab\"/></a>"
      ]
    },
    {
      "cell_type": "markdown",
      "metadata": {
        "id": "QjtRo4i-e61-"
      },
      "source": [
        "아래 셀 실행해서 파이썬 버전 2.7인지 확인"
      ]
    },
    {
      "cell_type": "code",
      "metadata": {
        "colab": {
          "base_uri": "https://localhost:8080/"
        },
        "id": "ycQiCWLUJsOY",
        "outputId": "96f98a19-1ca2-4d46-a244-d0be55af6535"
      },
      "source": [
        "import sys\n",
        "print(sys.version)"
      ],
      "execution_count": 1,
      "outputs": [
        {
          "output_type": "stream",
          "text": [
            "2.7.17 (default, Feb 27 2021, 15:10:58) \n",
            "[GCC 7.5.0]\n"
          ],
          "name": "stdout"
        }
      ]
    },
    {
      "cell_type": "code",
      "metadata": {
        "colab": {
          "base_uri": "https://localhost:8080/"
        },
        "id": "pndFe7DjJ3D9",
        "outputId": "b3efbbac-d73e-4df4-e146-33d1d0790b90"
      },
      "source": [
        "import os, sys\n",
        "from google.colab import drive\n",
        "drive.mount('/content/drive')\n",
        " \n",
        "my_path = '/content/notebooks'\n",
        "# Colab Notebooks 안에 my_env 폴더에 패키지 저장\n",
        "os.symlink('/content/drive/My Drive/Colab Notebooks/my_env', my_path)\n",
        "sys.path.insert(0, my_path)"
      ],
      "execution_count": 2,
      "outputs": [
        {
          "output_type": "stream",
          "text": [
            "Mounted at /content/drive\n"
          ],
          "name": "stdout"
        }
      ]
    },
    {
      "cell_type": "code",
      "metadata": {
        "colab": {
          "base_uri": "https://localhost:8080/"
        },
        "id": "qQ0ULGVjKLgi",
        "outputId": "526336d9-ebaf-4d8b-80be-4b01cee2b75e"
      },
      "source": [
        "%cd \"/content/drive/My Drive/Colab Notebooks\"\n",
        "!unzip -q peregrine_v1_r1_839d7b7.zip -d /content"
      ],
      "execution_count": 3,
      "outputs": [
        {
          "output_type": "stream",
          "text": [
            "/content/drive/My Drive/Colab Notebooks\n"
          ],
          "name": "stdout"
        }
      ]
    },
    {
      "cell_type": "markdown",
      "metadata": {
        "id": "N3YlKIVAeL4A"
      },
      "source": [
        "param 수정하기"
      ]
    },
    {
      "cell_type": "code",
      "metadata": {
        "id": "A92i0fkvLfsa",
        "colab": {
          "base_uri": "https://localhost:8080/"
        },
        "outputId": "80d83f29-ed37-4fc0-d811-8f35c2bebd14"
      },
      "source": [
        "%cd /content/\n",
        "!chmod 755 -R peregrine_v1_r1_839d7b7"
      ],
      "execution_count": 6,
      "outputs": [
        {
          "output_type": "stream",
          "text": [
            "/content\n"
          ],
          "name": "stdout"
        }
      ]
    },
    {
      "cell_type": "code",
      "metadata": {
        "colab": {
          "base_uri": "https://localhost:8080/"
        },
        "id": "_XRgyYncJ7mv",
        "outputId": "279bbf14-5fc2-414a-b882-718a117f7d0a"
      },
      "source": [
        "%cd /content/peregrine_v1_r1_839d7b7/demo/mnist/sample/\n",
        "!sudo make clean"
      ],
      "execution_count": 9,
      "outputs": [
        {
          "output_type": "stream",
          "text": [
            "/content/peregrine_v1_r1_839d7b7/demo/mnist/sample\n",
            "ln -sf ../data ./\n",
            "mkdir -p run.bipolar\n",
            "cp -p sim_params.bipolar.json run.bipolar/\n",
            "python ../../../mnist/run_mnist.pyc --json run.bipolar/sim_params.bipolar.json\n",
            "spike generation for inference: label 0 1 2 3 4 5 6 7 8 9 \n",
            "spike generation for learning epoch from 1 to 5\n",
            "learning epoch: 1\n",
            "  inference for epoch 1: 0 1 2 3 4 5 6 7 8 9 \n",
            "learning epoch: 2\n",
            "  inference for epoch 2: 0 1 2 3 4 5 6 7 8 9 \n",
            "learning epoch: 3\n",
            "  inference for epoch 3: 0 1 2 3 4 5 6 7 8 9 \n",
            "learning epoch: 4\n",
            "  inference for epoch 4: 0 1 2 3 4 5 6 7 8 9 \n",
            "learning epoch: 5\n",
            "  inference for epoch 5: 0 1 2 3 4 5 6 7 8 9 \n",
            "counting spikes\n",
            "generating report\n"
          ],
          "name": "stdout"
        }
      ]
    },
    {
      "cell_type": "code",
      "metadata": {
        "id": "o2_5ODhhfzAK"
      },
      "source": [
        "!make bipolar"
      ],
      "execution_count": null,
      "outputs": []
    }
  ]
}